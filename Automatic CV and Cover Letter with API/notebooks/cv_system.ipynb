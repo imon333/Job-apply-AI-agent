{
 "cells": [
  {
   "cell_type": "markdown",
   "metadata": {},
   "source": [
    "# CV and Cover Letter Automation System\n",
    "\n",
    "This notebook provides a step-by-step interface for tailoring your CV and cover letter based on job descriptions using OpenAI's API.\n",
    "\n",
    "## How it works:\n",
    "\n",
    "1. set up your OpenAI API key\n",
    "2. Paste a job description\n",
    "3. The system will analyze your existing CV and cover letter\n",
    "4. OpenAI will suggest tailored content based on the job description\n",
    "5. New cv documents will be created in the output folder\n",
    "\n",
    "Let's get started!"
   ]
  },
  {
   "cell_type": "markdown",
   "metadata": {},
   "source": [
    "## 1. Setup and Configuration\n",
    "\n",
    "First, let's import the necessary libraries and set up our environment."
   ]
  },
  {
   "cell_type": "code",
   "execution_count": 1,
   "metadata": {},
   "outputs": [
    {
     "name": "stdout",
     "output_type": "stream",
     "text": [
      "Setup complete!\n"
     ]
    }
   ],
   "source": [
    "import os\n",
    "import sys\n",
    "import json\n",
    "from datetime import datetime\n",
    "from IPython.display import display, HTML\n",
    "\n",
    "# Add the project root to the path\n",
    "project_root = os.path.abspath(os.path.join(os.getcwd(), '..'))\n",
    "if project_root not in sys.path:\n",
    "    sys.path.append(project_root)\n",
    "\n",
    "# Import our custom modules\n",
    "from src.parsers.document_parser import CVParser, CoverLetterParser\n",
    "from src.utils.openai_integration import OpenAIIntegration\n",
    "from src.updaters.document_updater import DocumentUpdater\n",
    "\n",
    "# Define paths\n",
    "DATA_DIR = os.path.join(project_root, 'data')\n",
    "OUTPUT_DIR = os.path.join(project_root, 'output')\n",
    "\n",
    "# Create output directory if it doesn't exist\n",
    "os.makedirs(OUTPUT_DIR, exist_ok=True)\n",
    "\n",
    "print(\"Setup complete!\")"
   ]
  },
  {
   "cell_type": "markdown",
   "metadata": {},
   "source": [
    "## 2. Set up OpenAI API Key\n",
    "\n",
    "You'll need an OpenAI API key to use this system. If you don't have one, you can get it from [OpenAI's website](https://platform.openai.com/account/api-keys).\n",
    "\n",
    "You can either set it as an environment variable or enter it directly below:"
   ]
  },
  {
   "cell_type": "code",
   "execution_count": 2,
   "metadata": {},
   "outputs": [
    {
     "name": "stdout",
     "output_type": "stream",
     "text": [
      "✅ API key successfully set!\n"
     ]
    }
   ],
   "source": [
    "# Option 1: Set API key directly\n",
    "import getpass\n",
    "api_key = getpass.getpass(\"Enter your OpenAI API key (input will be hidden): \")\n",
    "\n",
    "# Initialize OpenAI integration\n",
    "openai_integration = OpenAIIntegration(api_key=api_key)\n",
    "\n",
    "# Verify API key is set\n",
    "if openai_integration.is_api_key_set():\n",
    "    print(\"✅ API key successfully set!\")\n",
    "else:\n",
    "    print(\"❌ API key not set. Please try again or set the OPENAI_API_KEY environment variable.\")"
   ]
  },
  {
   "cell_type": "markdown",
   "metadata": {},
   "source": [
    "## 3. Load Your CV and Cover Letter\n",
    "\n",
    "The system will use your existing CV and cover letter as templates. Let's load them and see what they contain."
   ]
  },
  {
   "cell_type": "code",
   "execution_count": 12,
   "metadata": {},
   "outputs": [
    {
     "name": "stdout",
     "output_type": "stream",
     "text": [
      "Available documents:\n",
      "1. Cover Letter_Imon .docx\n",
      "2. Imon Hosen - Resume_Template_ATS.docx\n",
      "\n",
      "CV Information:\n",
      "Name: Imon Hosen\n",
      "Email: imonhosen99@gmail.com\n",
      "Phone: +491606355807  \n",
      "\n",
      "CV Sections:\n",
      "- HEADER\n",
      "- PROFILE\n",
      "- EDUCATION\n",
      "- SKILLS\n",
      "- CERTIFICATIONS\n",
      "- EXPERIENCE\n",
      "- PROJECTS\n",
      "\n",
      "Cover Letter Information:\n",
      "Header: Imon Hosen\n",
      "Greeting: Not found\n",
      "Body length: 0 characters\n"
     ]
    }
   ],
   "source": [
    "# List available documents in the data directory\n",
    "available_documents = [f for f in os.listdir(DATA_DIR) if f.endswith('.docx')]\n",
    "print(\"Available documents:\")\n",
    "for i, doc in enumerate(available_documents):\n",
    "    print(f\"{i+1}. {doc}\")\n",
    "\n",
    "# Default documents (you can change these if needed)\n",
    "cv_filename = \"Imon Hosen - Resume_Template_ATS.docx\"\n",
    "cover_letter_filename = \"Cover Letter_Imon .docx\"\n",
    "\n",
    "# Construct full paths\n",
    "cv_path = os.path.join(DATA_DIR, cv_filename)\n",
    "cover_letter_path = os.path.join(DATA_DIR, cover_letter_filename)\n",
    "\n",
    "# Load documents\n",
    "cv_parser = CVParser(cv_path)\n",
    "cover_letter_parser = CoverLetterParser(cover_letter_path)\n",
    "\n",
    "# Display some information about the loaded documents\n",
    "print(\"\\nCV Information:\")\n",
    "personal_info = cv_parser.get_personal_info()\n",
    "print(f\"Name: {personal_info.get('name', 'Not found')}\")\n",
    "print(f\"Email: {personal_info.get('email', 'Not found')}\")\n",
    "print(f\"Phone: {personal_info.get('phone', 'Not found')}\")\n",
    "\n",
    "print(\"\\nCV Sections:\")\n",
    "for section in cv_parser.get_all_sections().keys():\n",
    "    print(f\"- {section}\")\n",
    "\n",
    "print(\"\\nCover Letter Information:\")\n",
    "print(f\"Header: {cover_letter_parser.get_header() or 'Not found'}\")\n",
    "print(f\"Greeting: {cover_letter_parser.get_greeting() or 'Not found'}\")\n",
    "print(f\"Body length: {len(cover_letter_parser.get_body())} characters\")\n",
    "\n",
    "# Initialize document updater\n",
    "document_updater = DocumentUpdater(cv_path, cover_letter_path, openai_integration)"
   ]
  },
  {
   "cell_type": "markdown",
   "metadata": {},
   "source": [
    "## 4. Enter Job Description\n",
    "\n",
    "Now, paste the job description you want to tailor your CV and cover letter for:"
   ]
  },
  {
   "cell_type": "code",
   "execution_count": 18,
   "metadata": {},
   "outputs": [
    {
     "name": "stdout",
     "output_type": "stream",
     "text": [
      "Job Description Preview (first 300 characters):\n",
      "\n",
      "\n",
      "\n",
      "Working Student R&D - Material Master Data (all genders) \n",
      "Hamburg, Hamburg, Germany · 1 week ago · 40 people clicked apply\n",
      "Hybrid  Full-time  Internship\n",
      "Skills: Communication, English, +8 more\n",
      "Curious where you stand? See how you compare to 40 others who clicked apply. Try Premium for €0\n",
      "\n",
      "Apply\n",
      "\n",
      "...\n",
      "\n",
      "Total length: 2457 characters\n"
     ]
    }
   ],
   "source": [
    "# Input area for job description\n",
    "job_description = \"\"\"\n",
    "\n",
    "\n",
    "\n",
    "\"\"\"\n",
    "\n",
    "# Display the job description for confirmation\n",
    "print(\"Job Description Preview (first 300 characters):\")\n",
    "print(job_description[:300] + \"...\" if len(job_description) > 300 else job_description)\n",
    "print(f\"\\nTotal length: {len(job_description)} characters\")"
   ]
  },
  {
   "cell_type": "markdown",
   "metadata": {},
   "source": [
    "## 5. Analyze Job Description\n",
    "\n",
    "Now, let's analyze the job description to identify key requirements and skills that should be emphasized in your CV and cover letter."
   ]
  },
  {
   "cell_type": "code",
   "execution_count": 19,
   "metadata": {},
   "outputs": [
    {
     "name": "stdout",
     "output_type": "stream",
     "text": [
      "Analyzing job description... (this may take a moment)\n",
      "No analysis results returned.\n"
     ]
    }
   ],
   "source": [
    "# Analyze job description\n",
    "print(\"Analyzing job description... (this may take a moment)\")\n",
    "analysis_result = document_updater.analyze_job_description(job_description)\n",
    "\n",
    "# Display analysis results\n",
    "if \"error\" in analysis_result:\n",
    "    print(f\"Error: {analysis_result['error']}\")\n",
    "elif \"raw_response\" in analysis_result:\n",
    "    try:\n",
    "        # Try to parse as JSON\n",
    "        suggestions = json.loads(analysis_result[\"raw_response\"])\n",
    "        \n",
    "        print(\"\\n📋 Analysis Results:\")\n",
    "        print(\"\\n🔹 Suggested Profile Summary:\")\n",
    "        print(suggestions.get(\"profile_summary\", \"No suggestions\"))\n",
    "        \n",
    "        print(\"\\n🔹 Key Skills to Emphasize:\")\n",
    "        for skill in suggestions.get(\"skills\", []):\n",
    "            print(f\"- {skill}\")\n",
    "        \n",
    "        print(\"\\n🔹 Experience Highlights:\")\n",
    "        for highlight in suggestions.get(\"experience_highlights\", []):\n",
    "            print(f\"- {highlight}\")\n",
    "        \n",
    "        print(\"\\n🔹 Keywords to Emphasize:\")\n",
    "        for keyword in suggestions.get(\"keywords_to_emphasize\", []):\n",
    "            print(f\"- {keyword}\")\n",
    "    except json.JSONDecodeError:\n",
    "        # If not valid JSON, display raw text\n",
    "        print(\"\\n📋 Analysis Results (raw):\")\n",
    "        print(analysis_result[\"raw_response\"])\n",
    "else:\n",
    "    print(\"No analysis results returned.\")"
   ]
  },
  {
   "cell_type": "markdown",
   "metadata": {},
   "source": [
    "## 6. Generate Tailored Documents\n",
    "\n",
    "Now, let's generate tailored versions of your CV and cover letter based on the job description analysis."
   ]
  },
  {
   "cell_type": "code",
   "execution_count": 20,
   "metadata": {},
   "outputs": [
    {
     "name": "stdout",
     "output_type": "stream",
     "text": [
      "Generating tailored CV...\n",
      "✅ Tailored CV saved to: Job_Application_CV_20250417_003015.docx\n",
      "\n",
      "Generating tailored cover letter...\n",
      "✅ Tailored cover letter saved to: Job_Application_CoverLetter_20250417_003015.docx\n"
     ]
    },
    {
     "data": {
      "text/html": [
       "\n",
       "<div style=\"background-color: #e6f7e6; padding: 15px; border-radius: 5px; margin-top: 20px;\">\n",
       "    <h3 style=\"color: #2e8b57;\">✅ Documents Successfully Generated!</h3>\n",
       "    <p>Your tailored documents have been saved to the following locations:</p>\n",
       "    <ul>\n",
       "        <li><strong>CV:</strong> /Users/eimon/Desktop/cv_tailoring_project_updated/output/Job_Application_CV_20250417_003015.docx</li>\n",
       "        <li><strong>Cover Letter:</strong> /Users/eimon/Desktop/cv_tailoring_project_updated/output/Job_Application_CoverLetter_20250417_003015.docx</li>\n",
       "    </ul>\n",
       "    <p>You can now review and further customize these documents before submitting your application.</p>\n",
       "</div>\n"
      ],
      "text/plain": [
       "<IPython.core.display.HTML object>"
      ]
     },
     "metadata": {},
     "output_type": "display_data"
    }
   ],
   "source": [
    "# Generate a timestamp for the output files\n",
    "timestamp = datetime.now().strftime(\"%Y%m%d_%H%M%S\")\n",
    "job_title = \"Job_Application\"  # You can customize this\n",
    "\n",
    "# Define output paths\n",
    "tailored_cv_path = os.path.join(OUTPUT_DIR, f\"{job_title}_CV_{timestamp}.docx\")\n",
    "tailored_cover_letter_path = os.path.join(OUTPUT_DIR, f\"{job_title}_CoverLetter_{timestamp}.docx\")\n",
    "\n",
    "# Generate tailored CV\n",
    "print(\"Generating tailored CV...\")\n",
    "cv_result = document_updater.update_cv(job_description, tailored_cv_path)\n",
    "print(f\"✅ Tailored CV saved to: {os.path.basename(cv_result)}\")\n",
    "\n",
    "# Generate tailored cover letter\n",
    "print(\"\\nGenerating tailored cover letter...\")\n",
    "cover_letter_result = document_updater.update_cover_letter(job_description, tailored_cover_letter_path)\n",
    "print(f\"✅ Tailored cover letter saved to: {os.path.basename(cover_letter_result)}\")\n",
    "\n",
    "# Display success message with file paths\n",
    "display(HTML(f\"\"\"\n",
    "<div style=\"background-color: #e6f7e6; padding: 15px; border-radius: 5px; margin-top: 20px;\">\n",
    "    <h3 style=\"color: #2e8b57;\">✅ Documents Successfully Generated!</h3>\n",
    "    <p>Your tailored documents have been saved to the following locations:</p>\n",
    "    <ul>\n",
    "        <li><strong>CV:</strong> {tailored_cv_path}</li>\n",
    "        <li><strong>Cover Letter:</strong> {tailored_cover_letter_path}</li>\n",
    "    </ul>\n",
    "    <p>You can now review and further customize these documents before submitting your application.</p>\n",
    "</div>\n",
    "\"\"\"))"
   ]
  },
  {
   "cell_type": "markdown",
   "metadata": {},
   "source": [
    "## 7. (next feature)Customization Options\n",
    "\n",
    "You can customize various aspects of the tailoring process by modifying the parameters below:"
   ]
  },
  {
   "cell_type": "code",
   "execution_count": 21,
   "metadata": {},
   "outputs": [],
   "source": [
    "# OpenAI model options\n",
    "def change_openai_model(model_name=\"gpt-3.5-turbo\"):\n",
    "    \"\"\"Change the OpenAI model used for analysis and generation.\n",
    "    \n",
    "    Args:\n",
    "        model_name: Name of the OpenAI model to use (e.g., \"gpt-3.5-turbo\", \"gpt-4\")\n",
    "    \"\"\"\n",
    "    # This would require modifying the OpenAIIntegration class to accept model name as a parameter\n",
    "    print(f\"Model changed to: {model_name}\")\n",
    "    print(\"Note: This functionality requires updating the OpenAIIntegration class.\")\n",
    "\n",
    "# Example usage:\n",
    "# change_openai_model(\"gpt-4\")"
   ]
  },
  {
   "cell_type": "markdown",
   "metadata": {},
   "source": [
    " ## 8. (next feature)Process Multiple Job Applications\n",
    "\n",
    "If you want to apply for multiple positions, you can use the function below to process multiple job descriptions in batch:"
   ]
  },
  {
   "cell_type": "code",
   "execution_count": 22,
   "metadata": {},
   "outputs": [
    {
     "data": {
      "text/plain": [
       "'\\njob_descriptions = [\\n    \"First job description...\",\\n    \"Second job description...\"\\n]\\n\\njob_titles = [\\n    \"Data_Analyst\",\\n    \"Software_Engineer\"\\n]\\n\\nresults = process_multiple_jobs(job_descriptions, job_titles)\\n'"
      ]
     },
     "execution_count": 22,
     "metadata": {},
     "output_type": "execute_result"
    }
   ],
   "source": [
    "def process_multiple_jobs(job_descriptions, job_titles):\n",
    "    \"\"\"Process multiple job applications at once.\n",
    "    \n",
    "    Args:\n",
    "        job_descriptions: List of job description texts\n",
    "        job_titles: List of job titles (used for file naming)\n",
    "    \n",
    "    Returns:\n",
    "        Dictionary mapping job titles to output file paths\n",
    "    \"\"\"\n",
    "    results = {}\n",
    "    \n",
    "    for i, (description, title) in enumerate(zip(job_descriptions, job_titles)):\n",
    "        print(f\"Processing job {i+1}/{len(job_descriptions)}: {title}\")\n",
    "        \n",
    "        # Generate timestamp\n",
    "        timestamp = datetime.now().strftime(\"%Y%m%d_%H%M%S\")\n",
    "        \n",
    "        # Define output paths\n",
    "        cv_path = os.path.join(OUTPUT_DIR, f\"{title.replace(' ', '_')}_CV_{timestamp}.docx\")\n",
    "        cover_letter_path = os.path.join(OUTPUT_DIR, f\"{title.replace(' ', '_')}_CoverLetter_{timestamp}.docx\")\n",
    "        \n",
    "        # Generate tailored documents\n",
    "        cv_result = document_updater.update_cv(description, cv_path)\n",
    "        cover_letter_result = document_updater.update_cover_letter(description, cover_letter_path)\n",
    "        \n",
    "        results[title] = {\n",
    "            \"cv\": cv_result,\n",
    "            \"cover_letter\": cover_letter_result\n",
    "        }\n",
    "        \n",
    "        print(f\"✅ Completed: {title}\\n\")\n",
    "    \n",
    "    return results\n",
    "\n",
    "# Example usage:\n",
    "'''\n",
    "job_descriptions = [\n",
    "    \"First job description...\",\n",
    "    \"Second job description...\"\n",
    "]\n",
    "\n",
    "job_titles = [\n",
    "    \"Data_Analyst\",\n",
    "    \"Software_Engineer\"\n",
    "]\n",
    "\n",
    "results = process_multiple_jobs(job_descriptions, job_titles)\n",
    "'''"
   ]
  },
  {
   "cell_type": "markdown",
   "metadata": {},
   "source": []
  }
 ],
 "metadata": {
  "kernelspec": {
   "display_name": "CV_R",
   "language": "python",
   "name": "python3"
  },
  "language_info": {
   "codemirror_mode": {
    "name": "ipython",
    "version": 3
   },
   "file_extension": ".py",
   "mimetype": "text/x-python",
   "name": "python",
   "nbconvert_exporter": "python",
   "pygments_lexer": "ipython3",
   "version": "3.11.11"
  }
 },
 "nbformat": 4,
 "nbformat_minor": 4
}
