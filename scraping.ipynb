{
 "cells": [
  {
   "cell_type": "code",
   "execution_count": 7,
   "metadata": {},
   "outputs": [],
   "source": [
    "#!pip3 install undetected-chromedriver\n",
    "#!pip3 install undetected-chromedriver selenium pandas\n",
    "#!pip3 install openpyxl\n"
   ]
  },
  {
   "cell_type": "code",
   "execution_count": 4,
   "metadata": {},
   "outputs": [],
   "source": [
    "import time\n",
    "import datetime\n",
    "import pandas as pd\n",
    "import undetected_chromedriver as uc\n",
    "from selenium import webdriver\n",
    "from selenium.webdriver.common.by import By\n",
    "from selenium.webdriver.support.ui import WebDriverWait\n",
    "from selenium.webdriver.support import expected_conditions as EC"
   ]
  },
  {
   "cell_type": "code",
   "execution_count": 8,
   "metadata": {},
   "outputs": [
    {
     "name": "stdout",
     "output_type": "stream",
     "text": [
      "\n",
      "🔍 Scraping LinkedIn Jobs...\n",
      "\n",
      "\n",
      "✅ Jobs saved to linkedin_jobs_2025-02-23.xlsx\n"
     ]
    }
   ],
   "source": [
    "\n",
    "\n",
    "# ---- Function to Scrape LinkedIn Jobs Using Selenium ----\n",
    "def scrape_linkedin_jobs(keyword, location):\n",
    "    print(\"\\n🔍 Scraping LinkedIn Jobs...\\n\")\n",
    "\n",
    "    # Configure Selenium WebDriver (Headless Mode)\n",
    "    options = webdriver.ChromeOptions()\n",
    "    options.add_argument(\"--headless\")  # Run without opening a browser\n",
    "    options.add_argument(\"--no-sandbox\")\n",
    "    options.add_argument(\"--disable-dev-shm-usage\")\n",
    "\n",
    "    driver = uc.Chrome(options=options)\n",
    "    \n",
    "    # Generate LinkedIn job search URL\n",
    "    search_url = f\"https://www.linkedin.com/jobs/search?keywords={keyword.replace(' ', '%20')}&location={location.replace(' ', '%20')}\"\n",
    "    driver.get(search_url)\n",
    "    \n",
    "    # ✅ Scroll to load more jobs\n",
    "    for _ in range(3):  \n",
    "        driver.execute_script(\"window.scrollBy(0, 800);\")\n",
    "        time.sleep(2)\n",
    "\n",
    "    # ✅ Wait for job listings to appear\n",
    "    wait = WebDriverWait(driver, 15)  # Increased wait time\n",
    "    wait.until(EC.presence_of_element_located((By.CLASS_NAME, \"base-card\")))\n",
    "\n",
    "    jobs = []\n",
    "\n",
    "    # ✅ Find all job listings\n",
    "    job_elements = driver.find_elements(By.CLASS_NAME, \"base-card\")  \n",
    "\n",
    "    for job in job_elements[:10]:  # Limit to top 10 jobs\n",
    "        try:\n",
    "            title_element = job.find_element(By.CSS_SELECTOR, \"h3\")  # Updated selector for job title\n",
    "            title = title_element.text.strip()\n",
    "\n",
    "            company_element = job.find_element(By.CSS_SELECTOR, \"h4\")  # Updated selector for company name\n",
    "            company = company_element.text.strip()\n",
    "\n",
    "            link = job.find_element(By.TAG_NAME, \"a\").get_attribute(\"href\")\n",
    "\n",
    "            jobs.append({\"title\": title, \"company\": company, \"link\": link, \"source\": \"LinkedIn\"})\n",
    "        except Exception as e:\n",
    "            print(f\"⚠️ Skipping a job entry due to error: {e}\")\n",
    "            continue\n",
    "\n",
    "    driver.quit()\n",
    "    return jobs\n",
    "\n",
    "# ---- Run the Script and Save to Excel ----\n",
    "if __name__ == \"__main__\":\n",
    "    keyword = input(\"Enter job title (e.g., Software Engineer): \")\n",
    "    location = input(\"Enter location (e.g., Remote, New York, Berlin): \")\n",
    "\n",
    "    linkedin_jobs = scrape_linkedin_jobs(keyword, location)\n",
    "\n",
    "    if linkedin_jobs:\n",
    "        df = pd.DataFrame(linkedin_jobs)\n",
    "\n",
    "        # ✅ Save to Excel\n",
    "        today_date = datetime.date.today().strftime(\"%Y-%m-%d\")\n",
    "        filename = f\"linkedin_jobs_{today_date}.xlsx\"\n",
    "        df.to_excel(filename, index=False)\n",
    "        \n",
    "        print(f\"\\n✅ Jobs saved to {filename}\")\n",
    "    else:\n",
    "        print(\"\\n❌ No LinkedIn jobs found.\")\n"
   ]
  },
  {
   "cell_type": "code",
   "execution_count": null,
   "metadata": {},
   "outputs": [],
   "source": []
  },
  {
   "cell_type": "code",
   "execution_count": null,
   "metadata": {},
   "outputs": [],
   "source": []
  }
 ],
 "metadata": {
  "kernelspec": {
   "display_name": "CV_R",
   "language": "python",
   "name": "python3"
  },
  "language_info": {
   "codemirror_mode": {
    "name": "ipython",
    "version": 3
   },
   "file_extension": ".py",
   "mimetype": "text/x-python",
   "name": "python",
   "nbconvert_exporter": "python",
   "pygments_lexer": "ipython3",
   "version": "3.11.11"
  }
 },
 "nbformat": 4,
 "nbformat_minor": 2
}
